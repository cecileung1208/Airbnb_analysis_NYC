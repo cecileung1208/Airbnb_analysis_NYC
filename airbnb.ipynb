{
 "cells": [
  {
   "cell_type": "code",
   "execution_count": 19,
   "metadata": {},
   "outputs": [],
   "source": [
    "#import dependencies\n",
    "import pandas as pd\n",
    "from sqlalchemy import create_engine\n",
    "import os\n",
    "import sqlalchemy\n",
    "from sqlalchemy.ext.automap import automap_base\n",
    "from sqlalchemy.orm import Session\n",
    "from sqlalchemy import create_engine, func, inspect"
   ]
  },
  {
   "cell_type": "markdown",
   "metadata": {},
   "source": [
    "### Extract CSVs into DataFrames"
   ]
  },
  {
   "cell_type": "code",
   "execution_count": 9,
   "metadata": {},
   "outputs": [],
   "source": [
    "#path to source CSV\n",
    "file_path_boroughs = os.path.join(\"actualApp/data/Transformation\",\"boroughs_id.csv\")\n",
    "file_path_host = os.path.join(\"actualApp/data/Transformation\",\"host_id.csv\")\n",
    "file_path_lisiting = os.path.join(\"actualApp/data/Transformation\",\"listings-detailed-cleaned.csv\")\n",
    "file_path_neighbourhood = os.path.join(\"actualApp/data/Transformation\",\"neighbourhood_id.csv\")\n",
    "file_path_room_type = os.path.join(\"actualApp/data/Transformation\",\"room_type_id.csv\")\n",
    "file_path_rates_dayofweek = os.path.join(\"actualApp/data/Transformation\",\"rates_dayofweek.csv\")\n",
    "file_path_rates_monthly = os.path.join(\"actualApp/data/Transformation\",\"rates_monthly.csv\")"
   ]
  },
  {
   "cell_type": "code",
   "execution_count": 11,
   "metadata": {},
   "outputs": [],
   "source": [
    "#read country csv\n",
    "boroughs_data = pd.read_csv(file_path_boroughs)\n",
    "host_data = pd.read_csv(file_path_host)\n",
    "listing_data = pd.read_csv(file_path_lisiting)\n",
    "neighbourhood_data = pd.read_csv(file_path_neighbourhood)\n",
    "room_type_data = pd.read_csv(file_path_room_type)\n",
    "dayofweek_data = pd.read_csv(file_path_rates_dayofweek)\n",
    "rates_monthly_data = pd.read_csv(file_path_rates_monthly)\n",
    "\n",
    "#boroughs_data id as the index\n",
    "boroughs_data = boroughs_data.set_index(['borough_id'])\n",
    "host_data = host_data.set_index(['host_id'])\n",
    "listing_data = listing_data.set_index(['id'])\n",
    "neighbourhood_data = neighbourhood_data.set_index(['neighbourhood_id'])\n",
    "room_type_data = room_type_data.set_index(['room_type_id'])\n",
    "dayofweek_data = dayofweek_data.set_index(['listing_id'])\n",
    "rates_monthly_data = rates_monthly_data.set_index(['listing_id'])\n",
    "\n",
    "\n"
   ]
  },
  {
   "cell_type": "code",
   "execution_count": 18,
   "metadata": {},
   "outputs": [
    {
     "data": {
      "text/html": [
       "<div>\n",
       "<style scoped>\n",
       "    .dataframe tbody tr th:only-of-type {\n",
       "        vertical-align: middle;\n",
       "    }\n",
       "\n",
       "    .dataframe tbody tr th {\n",
       "        vertical-align: top;\n",
       "    }\n",
       "\n",
       "    .dataframe thead th {\n",
       "        text-align: right;\n",
       "    }\n",
       "</style>\n",
       "<table border=\"1\" class=\"dataframe\">\n",
       "  <thead>\n",
       "    <tr style=\"text-align: right;\">\n",
       "      <th></th>\n",
       "      <th>borough</th>\n",
       "    </tr>\n",
       "    <tr>\n",
       "      <th>borough_id</th>\n",
       "      <th></th>\n",
       "    </tr>\n",
       "  </thead>\n",
       "  <tbody>\n",
       "    <tr>\n",
       "      <th>1</th>\n",
       "      <td>Bronx</td>\n",
       "    </tr>\n",
       "    <tr>\n",
       "      <th>2</th>\n",
       "      <td>Brooklyn</td>\n",
       "    </tr>\n",
       "    <tr>\n",
       "      <th>3</th>\n",
       "      <td>Manhattan</td>\n",
       "    </tr>\n",
       "    <tr>\n",
       "      <th>4</th>\n",
       "      <td>Queens</td>\n",
       "    </tr>\n",
       "    <tr>\n",
       "      <th>5</th>\n",
       "      <td>Staten Island</td>\n",
       "    </tr>\n",
       "  </tbody>\n",
       "</table>\n",
       "</div>"
      ],
      "text/plain": [
       "                  borough\n",
       "borough_id               \n",
       "1                   Bronx\n",
       "2                Brooklyn\n",
       "3               Manhattan\n",
       "4                  Queens\n",
       "5           Staten Island"
      ]
     },
     "execution_count": 18,
     "metadata": {},
     "output_type": "execute_result"
    }
   ],
   "source": [
    "boroughs_data"
   ]
  },
  {
   "cell_type": "markdown",
   "metadata": {},
   "source": [
    "### Transform premise DataFrame"
   ]
  },
  {
   "cell_type": "markdown",
   "metadata": {},
   "source": [
    "### Transform county DataFrame"
   ]
  },
  {
   "cell_type": "markdown",
   "metadata": {},
   "source": [
    "### Create database connection"
   ]
  },
  {
   "cell_type": "markdown",
   "metadata": {},
   "source": [
    "### Load DataFrames into database"
   ]
  }
 ],
 "metadata": {
  "kernelspec": {
   "display_name": "Python 3",
   "language": "python",
   "name": "python3"
  },
  "language_info": {
   "codemirror_mode": {
    "name": "ipython",
    "version": 3
   },
   "file_extension": ".py",
   "mimetype": "text/x-python",
   "name": "python",
   "nbconvert_exporter": "python",
   "pygments_lexer": "ipython3",
   "version": "3.7.6"
  }
 },
 "nbformat": 4,
 "nbformat_minor": 2
}
